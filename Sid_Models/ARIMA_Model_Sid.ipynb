{
 "cells": [
  {
   "cell_type": "markdown",
   "id": "6027eb39",
   "metadata": {},
   "source": [
    "## ARIMA MODEL - UNIVARIATE"
   ]
  },
  {
   "cell_type": "code",
   "execution_count": 58,
   "id": "ea03b356",
   "metadata": {},
   "outputs": [],
   "source": [
    "# Read in datasets\n",
    "import pandas as pd\n",
    "import seaborn as sns\n",
    "import matplotlib.pyplot as plt\n",
    "import numpy as np\n",
    "\n",
    "USA_train_imputed = pd.read_csv(\"USA_train.csv\")\n",
    "USA_test_imputed = pd.read_csv(\"USA_test.csv\")\n",
    "USA_train_imputed.set_index('date', inplace=True)\n",
    "USA_test_imputed.set_index('date', inplace=True)\n",
    "\n",
    "Brazil_train_imputed = pd.read_csv(\"Brazil_train.csv\")\n",
    "Brazil_test_imputed = pd.read_csv(\"Brazil_test.csv\")\n",
    "Brazil_train_imputed.set_index('date', inplace=True)\n",
    "Brazil_test_imputed.set_index('date', inplace=True)\n",
    "\n",
    "Germany_train_imputed = pd.read_csv(\"Germany_train.csv\")\n",
    "Germany_test_imputed = pd.read_csv(\"Germany_test.csv\")\n",
    "Germany_train_imputed.set_index('date', inplace=True)\n",
    "Germany_test_imputed.set_index('date', inplace=True)\n",
    "\n",
    "Nigeria_train_imputed = pd.read_csv(\"Nigeria_train.csv\")\n",
    "Nigeria_test_imputed = pd.read_csv(\"Nigeria_test.csv\")\n",
    "Nigeria_train_imputed.set_index('date', inplace=True)\n",
    "Nigeria_test_imputed.set_index('date', inplace=True)\n",
    "\n",
    "China_train_imputed = pd.read_csv(\"China_train.csv\")\n",
    "China_test_imputed = pd.read_csv(\"China_test.csv\")\n",
    "China_train_imputed.set_index('date', inplace=True)\n",
    "China_test_imputed.set_index('date', inplace=True)\n",
    "\n",
    "Australia_train_imputed = pd.read_csv(\"Australia_train.csv\")\n",
    "Australia_test_imputed = pd.read_csv(\"Australia_test.csv\")\n",
    "Australia_train_imputed.set_index('date', inplace=True)\n",
    "Australia_test_imputed.set_index('date', inplace=True)"
   ]
  },
  {
   "cell_type": "markdown",
   "id": "f0c31ee7",
   "metadata": {},
   "source": [
    "### Checking for stationarity - all datasets"
   ]
  },
  {
   "cell_type": "code",
   "execution_count": 59,
   "id": "ea1911d7",
   "metadata": {},
   "outputs": [
    {
     "name": "stdout",
     "output_type": "stream",
     "text": [
      "ADF Statistic: 0.35350791999423303\n",
      "p-value: 0.9796705291813943\n",
      "Critical Values: {'1%': -3.4398077121659765, '5%': -2.865713608066101, '10%': -2.5689925469026402}\n"
     ]
    }
   ],
   "source": [
    "from statsmodels.tsa.stattools import adfuller\n",
    "result = adfuller(USA_train_imputed['new_cases'])\n",
    "print('ADF Statistic:', result[0])\n",
    "print('p-value:', result[1])\n",
    "print('Critical Values:', result[4])\n",
    "# Dataset not stationary"
   ]
  },
  {
   "cell_type": "code",
   "execution_count": 60,
   "id": "1192a871",
   "metadata": {},
   "outputs": [
    {
     "name": "stdout",
     "output_type": "stream",
     "text": [
      "ADF Statistic: -3.720782797356681\n",
      "p-value: 0.0038301427547293276\n",
      "Critical Values: {'1%': -3.439876604020831, '5%': -2.8657439615125675, '10%': -2.5690087183208665}\n"
     ]
    }
   ],
   "source": [
    "USA_train_imputed['new_cases'] += 0.0000001\n",
    "USA_log = np.log(USA_train_imputed['new_cases'])\n",
    "result = adfuller(USA_log)\n",
    "print('ADF Statistic:', result[0])\n",
    "print('p-value:', result[1])\n",
    "print('Critical Values:', result[4])\n",
    "# Dataset now stationary after log transformation"
   ]
  },
  {
   "cell_type": "code",
   "execution_count": 61,
   "id": "4d602886",
   "metadata": {},
   "outputs": [
    {
     "name": "stdout",
     "output_type": "stream",
     "text": [
      "ADF Statistic: -1.3451697006245777\n",
      "p-value: 0.6082623029077234\n",
      "Critical Values: {'1%': -3.440388459298194, '5%': -2.8659694611921034, '10%': -2.569128861019929}\n"
     ]
    }
   ],
   "source": [
    "result = adfuller(Brazil_train_imputed['new_cases'])\n",
    "print('ADF Statistic:', result[0])\n",
    "print('p-value:', result[1])\n",
    "print('Critical Values:', result[4])\n",
    "# Dataset not stationary"
   ]
  },
  {
   "cell_type": "code",
   "execution_count": 62,
   "id": "a915feb3",
   "metadata": {},
   "outputs": [
    {
     "name": "stdout",
     "output_type": "stream",
     "text": [
      "ADF Statistic: -3.5016065203650584\n",
      "p-value: 0.007945930945517227\n",
      "Critical Values: {'1%': -3.440388459298194, '5%': -2.8659694611921034, '10%': -2.569128861019929}\n"
     ]
    }
   ],
   "source": [
    "Brazil_train_imputed['new_cases'] += 0.0000001\n",
    "Brazil_log = np.log(Brazil_train_imputed['new_cases'])\n",
    "result = adfuller(Brazil_log)\n",
    "print('ADF Statistic:', result[0])\n",
    "print('p-value:', result[1])\n",
    "print('Critical Values:', result[4])\n",
    "# Dataset now stationary after log transformation"
   ]
  },
  {
   "cell_type": "code",
   "execution_count": 63,
   "id": "0092314e",
   "metadata": {},
   "outputs": [
    {
     "name": "stdout",
     "output_type": "stream",
     "text": [
      "ADF Statistic: -3.0337856122622235\n",
      "p-value: 0.031857457632445484\n",
      "Critical Values: {'1%': -3.439946506895534, '5%': -2.8657747597081404, '10%': -2.5690251267911495}\n"
     ]
    }
   ],
   "source": [
    "result = adfuller(Germany_train_imputed['new_cases'])\n",
    "print('ADF Statistic:', result[0])\n",
    "print('p-value:', result[1])\n",
    "print('Critical Values:', result[4])\n",
    "# Dataset is stationary"
   ]
  },
  {
   "cell_type": "code",
   "execution_count": 64,
   "id": "1eca727b",
   "metadata": {},
   "outputs": [
    {
     "name": "stdout",
     "output_type": "stream",
     "text": [
      "ADF Statistic: -2.90770238830385\n",
      "p-value: 0.04445961806463643\n",
      "Critical Values: {'1%': -3.440419374623044, '5%': -2.865983079837035, '10%': -2.5691361169972526}\n"
     ]
    }
   ],
   "source": [
    "result = adfuller(Nigeria_train_imputed['new_cases'])\n",
    "print('ADF Statistic:', result[0])\n",
    "print('p-value:', result[1])\n",
    "print('Critical Values:', result[4])\n",
    "# Dataset is stationary"
   ]
  },
  {
   "cell_type": "code",
   "execution_count": 65,
   "id": "e50ea7fa",
   "metadata": {},
   "outputs": [
    {
     "name": "stdout",
     "output_type": "stream",
     "text": [
      "ADF Statistic: -7.529759014914354\n",
      "p-value: 3.604559833669864e-11\n",
      "Critical Values: {'1%': -3.4398627454742488, '5%': -2.8657378555534248, '10%': -2.569005465238395}\n"
     ]
    }
   ],
   "source": [
    "result = adfuller(China_train_imputed['new_cases'])\n",
    "print('ADF Statistic:', result[0])\n",
    "print('p-value:', result[1])\n",
    "print('Critical Values:', result[4])\n",
    "# Dataset is stationary"
   ]
  },
  {
   "cell_type": "code",
   "execution_count": 66,
   "id": "483b5c55",
   "metadata": {},
   "outputs": [
    {
     "name": "stdout",
     "output_type": "stream",
     "text": [
      "ADF Statistic: 0.32767689462415905\n",
      "p-value: 0.9785792556801218\n",
      "Critical Values: {'1%': -3.439918423003054, '5%': -2.865762386436236, '10%': -2.5690185346241785}\n"
     ]
    }
   ],
   "source": [
    "result = adfuller(Australia_train_imputed['new_cases'])\n",
    "print('ADF Statistic:', result[0])\n",
    "print('p-value:', result[1])\n",
    "print('Critical Values:', result[4])\n",
    "# Dataset not stationary"
   ]
  },
  {
   "cell_type": "code",
   "execution_count": 67,
   "id": "f8edcda9",
   "metadata": {},
   "outputs": [
    {
     "name": "stdout",
     "output_type": "stream",
     "text": [
      "ADF Statistic: -6.1579186738228575\n",
      "p-value: 7.292088765604644e-08\n",
      "Critical Values: {'1%': -3.4399324443722814, '5%': -2.865768564020576, '10%': -2.5690218258831052}\n"
     ]
    }
   ],
   "source": [
    "Australia_train_imputed['new_cases'] += 0.0000001\n",
    "Australia_log = np.log(Australia_train_imputed['new_cases'])\n",
    "result = adfuller(Australia_log)\n",
    "print('ADF Statistic:', result[0])\n",
    "print('p-value:', result[1])\n",
    "print('Critical Values:', result[4])\n",
    "# Dataset now stationary after log transformation"
   ]
  },
  {
   "cell_type": "code",
   "execution_count": 68,
   "id": "db27fe15",
   "metadata": {},
   "outputs": [],
   "source": [
    "# TUNING FUNCTIONS\n",
    "def evaluate_arima_model(train, test, arima_order):\n",
    "    history = [x for x in train]\n",
    "    # make predictions\n",
    "    predictions = list()\n",
    "    for t in range(len(test)):\n",
    "        model = ARIMA(history, order=arima_order)\n",
    "        model_fit = model.fit()\n",
    "        yhat = model_fit.forecast()[0]\n",
    "        predictions.append(yhat)\n",
    "        history.append(test[t])\n",
    "   \n",
    "    error = np.sqrt(mean_squared_error(test, predictions))\n",
    "    return error\n",
    "\n",
    "def evaluate_models(train, test, p_values, d_values, q_values):\n",
    "    best_score, best_cfg = float(\"inf\"), None\n",
    "    print(best_score)\n",
    "    for p in p_values:\n",
    "        for d in d_values:\n",
    "            for q in q_values:\n",
    "                order = (p,d,q)\n",
    "                print(order)\n",
    "                mse = evaluate_arima_model(train, test, order)\n",
    "                if mse < best_score:\n",
    "                    best_score, best_cfg = mse, order\n",
    "    print('Best ARIMA%s MSE=%.3f' % (best_cfg, best_score))"
   ]
  },
  {
   "cell_type": "markdown",
   "id": "d8ffa790",
   "metadata": {},
   "source": [
    "### USA"
   ]
  },
  {
   "cell_type": "code",
   "execution_count": 69,
   "id": "430bc8cd",
   "metadata": {},
   "outputs": [
    {
     "data": {
      "text/plain": [
       "<AxesSubplot:xlabel='date'>"
      ]
     },
     "execution_count": 69,
     "metadata": {},
     "output_type": "execute_result"
    },
    {
     "data": {
      "image/png": "[encoded data removed]",
      "text/plain": [
       "<Figure size 432x288 with 1 Axes>"
      ]
     },
     "metadata": {
      "needs_background": "light"
     },
     "output_type": "display_data"
    }
   ],
   "source": [
    "USA_train_imputed['new_cases'].plot()"
   ]
  },
  {
   "cell_type": "code",
   "execution_count": 70,
   "id": "a66d51d4",
   "metadata": {},
   "outputs": [],
   "source": [
    "# As log is needed for stationarity, we will take log\n",
    "USA_train_target = USA_train_imputed['new_cases']\n",
    "USA_test_target = USA_test_imputed['new_cases']\n",
    "USA_train_log = np.log(USA_train_target)\n",
    "USA_test_log = np.log(USA_test_target)\n",
    "#USA_train_log.plot()"
   ]
  },
  {
   "cell_type": "code",
   "execution_count": 71,
   "id": "7bdaf6c9",
   "metadata": {},
   "outputs": [],
   "source": [
    "import warnings\n",
    "warnings.filterwarnings(\"ignore\")\n",
    "from statsmodels.tsa.arima.model import ARIMA\n",
    "from sklearn.metrics import mean_squared_error"
   ]
  },
  {
   "cell_type": "code",
   "execution_count": 75,
   "id": "b52b8e68",
   "metadata": {},
   "outputs": [],
   "source": [
    "split_index = int(len(USA_train_target) * 0.9)\n",
    "USA_train_train_target = USA_train_log[:split_index]\n",
    "USA_train_test_target = USA_train_log[split_index:]"
   ]
  },
  {
   "cell_type": "code",
   "execution_count": 96,
   "id": "d49be8b7",
   "metadata": {},
   "outputs": [
    {
     "name": "stdout",
     "output_type": "stream",
     "text": [
      "inf\n",
      "(1, 1, 1)\n",
      "(1, 1, 2)\n",
      "(2, 1, 1)\n",
      "(2, 1, 2)\n",
      "(7, 1, 1)\n",
      "(7, 1, 2)\n",
      "Best ARIMA(7, 1, 2) MSE=0.619\n"
     ]
    }
   ],
   "source": [
    "# Tune using train error, A MORE EXHAUSTIVE GRID SEARCH WAS INITIALLY CONDUCTED. TO ENSURE THAT REPEATED RUNNING \n",
    "# OF CODE WOULDN'T TAKE TOO LONG, THAT GRID SEARCH ISN'T SHOWN HERE. MORE DETAILS IN REPORT.\n",
    "p_values = [1,2,7]\n",
    "d_values = [1]\n",
    "q_values = [1,2]\n",
    "\n",
    "\n",
    "warnings.filterwarnings(\"ignore\")\n",
    "evaluate_models(USA_train_train_target, USA_train_test_target, p_values, d_values, q_values)\n",
    "# Best was 7,1,2"
   ]
  },
  {
   "cell_type": "code",
   "execution_count": 97,
   "id": "e267efdc",
   "metadata": {},
   "outputs": [
    {
     "name": "stdout",
     "output_type": "stream",
     "text": [
      "predicted=11.243610, expected=11.475971\n",
      "predicted=11.363663, expected=10.368007\n",
      "predicted=10.999123, expected=9.828764\n",
      "predicted=10.822320, expected=11.618303\n",
      "predicted=10.684052, expected=11.144886\n",
      "predicted=10.862558, expected=11.536300\n",
      "predicted=11.457759, expected=11.235088\n",
      "predicted=11.122891, expected=11.462874\n",
      "predicted=11.162992, expected=10.429842\n",
      "predicted=11.187454, expected=10.374054\n",
      "predicted=10.786972, expected=11.621448\n",
      "predicted=10.918982, expected=11.169702\n",
      "predicted=10.910820, expected=11.354434\n",
      "predicted=11.315388, expected=11.311091\n",
      "predicted=11.217614, expected=11.479151\n",
      "predicted=11.186942, expected=10.451696\n",
      "predicted=11.173971, expected=10.499628\n",
      "predicted=10.938004, expected=11.599351\n",
      "predicted=10.844172, expected=11.289257\n",
      "predicted=11.190132, expected=11.469015\n",
      "predicted=11.445479, expected=10.944859\n",
      "predicted=11.126622, expected=11.883205\n",
      "predicted=11.214311, expected=10.680470\n",
      "predicted=11.337686, expected=10.348494\n",
      "predicted=11.021786, expected=11.811629\n",
      "predicted=10.921927, expected=11.374318\n",
      "predicted=11.272509, expected=11.632334\n",
      "predicted=11.489955, expected=11.609834\n",
      "predicted=11.448720, expected=11.751226\n",
      "predicted=11.562435, expected=10.709785\n",
      "predicted=11.297332, expected=10.577197\n",
      "predicted=11.197186, expected=11.888948\n",
      "predicted=11.102360, expected=11.421676\n",
      "predicted=11.281702, expected=11.622031\n",
      "predicted=11.761145, expected=10.572675\n",
      "predicted=11.172097, expected=10.872257\n",
      "predicted=10.870907, expected=10.165583\n",
      "predicted=10.879928, expected=10.657118\n",
      "predicted=10.625058, expected=12.142653\n",
      "predicted=10.990259, expected=11.672678\n",
      "predicted=11.489602, expected=11.827415\n",
      "predicted=11.523368, expected=11.843717\n",
      "predicted=11.546888, expected=11.974248\n",
      "predicted=11.748377, expected=11.091011\n",
      "predicted=11.571875, expected=10.901985\n",
      "predicted=11.543420, expected=12.097880\n",
      "predicted=11.351640, expected=11.637247\n",
      "predicted=11.546404, expected=11.916202\n",
      "predicted=11.985907, expected=11.715523\n",
      "predicted=11.581973, expected=11.987301\n",
      "predicted=11.700879, expected=10.930532\n",
      "predicted=11.755747, expected=10.845953\n",
      "predicted=11.228259, expected=12.139297\n",
      "predicted=11.395228, expected=11.651156\n",
      "predicted=11.672022, expected=11.874682\n",
      "predicted=11.736715, expected=11.861072\n",
      "predicted=11.771782, expected=12.169616\n",
      "predicted=11.760205, expected=11.262449\n",
      "predicted=11.746487, expected=11.384251\n",
      "predicted=11.744586, expected=12.399021\n",
      "predicted=11.595596, expected=12.093766\n",
      "predicted=11.945708, expected=12.394670\n",
      "predicted=12.308554, expected=12.508057\n",
      "predicted=12.062852, expected=12.405198\n",
      "predicted=12.326499, expected=11.324751\n",
      "predicted=12.173593, expected=12.083278\n",
      "predicted=11.836053, expected=13.140362\n",
      "predicted=12.287399, expected=12.784922\n",
      "predicted=12.600883, expected=13.121267\n",
      "predicted=12.813010, expected=13.286913\n",
      "predicted=12.906538, expected=13.127526\n"
     ]
    },
    {
     "data": {
      "text/plain": [
       "80840.34751153976"
      ]
     },
     "execution_count": 97,
     "metadata": {},
     "output_type": "execute_result"
    }
   ],
   "source": [
    "# FIND RMSE on TRAINING DATASET\n",
    "history = [x for x in USA_train_train_target]\n",
    "USA_train_predictions = list()\n",
    "for t in range(len(USA_train_test_target)):\n",
    "    model = ARIMA(history, order=(7,1,2))\n",
    "    model_fit = model.fit()\n",
    "    output = model_fit.forecast()\n",
    "    yhat = output[0]\n",
    "    USA_train_predictions.append(yhat)\n",
    "    obs = USA_train_test_target[t]\n",
    "    history.append(obs)\n",
    "    print('predicted=%f, expected=%f' % (yhat, obs))\n",
    "    \n",
    "np.sqrt(mean_squared_error(np.exp(USA_train_predictions), np.exp(USA_train_test_target)))"
   ]
  },
  {
   "cell_type": "code",
   "execution_count": 98,
   "id": "4bf3cb01",
   "metadata": {},
   "outputs": [
    {
     "name": "stdout",
     "output_type": "stream",
     "text": [
      "predicted=12.880259, expected=12.107478\n",
      "predicted=12.913885, expected=12.535574\n",
      "predicted=12.710228, expected=13.888933\n",
      "predicted=12.680061, expected=13.599637\n",
      "predicted=13.440222, expected=13.377004\n",
      "predicted=13.539440, expected=13.611050\n",
      "predicted=13.165420, expected=13.660455\n",
      "predicted=13.505974, expected=12.864178\n",
      "predicted=13.384517, expected=13.073171\n",
      "predicted=13.233196, expected=14.128982\n",
      "predicted=13.443189, expected=13.553449\n",
      "predicted=13.498273, expected=13.720629\n",
      "predicted=13.762749, expected=13.641877\n",
      "predicted=13.630581, expected=13.664138\n",
      "predicted=13.437169, expected=12.885085\n",
      "predicted=13.613145, expected=13.056937\n",
      "predicted=13.308446, expected=13.402469\n",
      "predicted=13.120350, expected=13.922742\n",
      "predicted=13.520120, expected=13.814155\n",
      "predicted=13.707892, expected=13.474457\n",
      "predicted=13.560945, expected=13.620699\n",
      "predicted=13.584695, expected=12.566254\n",
      "predicted=13.303831, expected=12.783335\n",
      "predicted=13.077431, expected=13.713719\n",
      "predicted=13.174293, expected=13.077619\n",
      "predicted=13.325397, expected=13.499259\n",
      "predicted=13.303184, expected=13.098929\n",
      "predicted=13.285056, expected=13.307197\n",
      "predicted=13.149120, expected=12.040838\n",
      "predicted=12.963194, expected=12.169751\n",
      "predicted=12.735563, expected=13.182939\n",
      "predicted=12.476673, expected=12.934903\n",
      "predicted=12.891620, expected=12.698137\n",
      "predicted=13.068568, expected=12.442432\n",
      "predicted=12.491345, expected=12.824383\n",
      "predicted=12.665593, expected=11.557956\n",
      "predicted=12.473824, expected=11.297242\n",
      "predicted=12.016642, expected=12.734487\n",
      "predicted=12.042878, expected=12.314797\n",
      "predicted=12.195404, expected=12.148655\n",
      "predicted=12.379259, expected=12.055889\n",
      "predicted=12.195925, expected=12.257331\n",
      "predicted=11.969835, expected=10.922894\n",
      "predicted=11.926247, expected=10.950982\n",
      "predicted=11.619732, expected=12.011838\n",
      "predicted=11.358271, expected=11.661647\n",
      "predicted=11.684822, expected=11.662302\n",
      "predicted=11.846931, expected=11.533326\n",
      "predicted=11.503715, expected=11.893551\n",
      "predicted=11.593620, expected=10.424778\n",
      "predicted=11.451668, expected=10.004780\n",
      "predicted=10.953515, expected=11.304116\n",
      "predicted=10.726940, expected=11.420777\n",
      "predicted=11.034022, expected=11.337393\n",
      "predicted=11.410649, expected=11.117643\n",
      "predicted=11.190983, expected=11.223482\n",
      "predicted=11.040214, expected=10.792160\n",
      "predicted=11.023195, expected=9.801953\n",
      "predicted=10.882966, expected=11.476925\n",
      "predicted=10.650717, expected=10.758562\n",
      "predicted=10.875456, expected=10.865803\n",
      "predicted=11.033612, expected=10.864599\n",
      "predicted=10.759262, expected=10.905974\n",
      "predicted=10.843049, expected=9.630169\n"
     ]
    }
   ],
   "source": [
    "# Make Test Predictions\n",
    "history = [x for x in USA_train_log]\n",
    "USA_predictions = list()\n",
    "for t in range(len(USA_test_log)):\n",
    "    model = ARIMA(history, order=(7,1,2))\n",
    "    model_fit = model.fit()\n",
    "    output = model_fit.forecast()\n",
    "    yhat = output[0]\n",
    "    USA_predictions.append(yhat)\n",
    "    obs = USA_test_log[t]\n",
    "    history.append(obs)\n",
    "    print('predicted=%f, expected=%f' % (yhat, obs))"
   ]
  },
  {
   "cell_type": "code",
   "execution_count": 99,
   "id": "821e4d13",
   "metadata": {},
   "outputs": [
    {
     "data": {
      "text/plain": [
       "233825.86811309864"
      ]
     },
     "execution_count": 99,
     "metadata": {},
     "output_type": "execute_result"
    }
   ],
   "source": [
    "#TEST RMSE\n",
    "rmse = np.sqrt(mean_squared_error(USA_test_imputed['new_cases'], np.exp(USA_predictions)))\n",
    "rmse"
   ]
  },
  {
   "cell_type": "code",
   "execution_count": 100,
   "id": "ae452ecc",
   "metadata": {},
   "outputs": [
    {
     "data": {
      "text/plain": [
       "<AxesSubplot:xlabel='date'>"
      ]
     },
     "execution_count": 100,
     "metadata": {},
     "output_type": "execute_result"
    },
    {
     "data": {
      "image/png": "[encoded data removed]",
      "text/plain": [
       "<Figure size 432x288 with 1 Axes>"
      ]
     },
     "metadata": {
      "needs_background": "light"
     },
     "output_type": "display_data"
    }
   ],
   "source": [
    "USA_test_imputed['predictions'] = np.exp(USA_predictions)\n",
    "USA_test_imputed.plot(y=[\"new_cases\", \"predictions\"])"
   ]
  },
  {
   "cell_type": "markdown",
   "id": "23976dc0",
   "metadata": {},
   "source": [
    "### BRAZIL"
   ]
  },
  {
   "cell_type": "code",
   "execution_count": 101,
   "id": "43cf7f4f",
   "metadata": {},
   "outputs": [
    {
     "data": {
      "text/plain": [
       "<AxesSubplot:xlabel='date'>"
      ]
     },
     "execution_count": 101,
     "metadata": {},
     "output_type": "execute_result"
    },
    {
     "data": {
      "image/png": "[encoded data removed]",
      "text/plain": [
       "<Figure size 432x288 with 1 Axes>"
      ]
     },
     "metadata": {
      "needs_background": "light"
     },
     "output_type": "display_data"
    }
   ],
   "source": [
    "Brazil_train_imputed['new_cases'].plot()"
   ]
  },
  {
   "cell_type": "code",
   "execution_count": 103,
   "id": "cf141dcf",
   "metadata": {},
   "outputs": [],
   "source": [
    "# As log is needed for stationarity, we will take log\n",
    "Brazil_train_target = Brazil_train_imputed['new_cases']\n",
    "Brazil_test_target = Brazil_test_imputed['new_cases']\n",
    "Brazil_train_log = np.log(Brazil_train_target)\n",
    "Brazil_test_log = np.log(Brazil_test_target)\n",
    "#Brazil_train_log.plot()"
   ]
  },
  {
   "cell_type": "code",
   "execution_count": 104,
   "id": "33169722",
   "metadata": {},
   "outputs": [],
   "source": [
    "split_index = int(len(Brazil_train_target) * 0.9)\n",
    "Brazil_train_train_target = Brazil_train_log[:split_index]\n",
    "Brazil_train_test_target = Brazil_train_log[split_index:]"
   ]
  },
  {
   "cell_type": "code",
   "execution_count": 108,
   "id": "6b9580fc",
   "metadata": {},
   "outputs": [
    {
     "name": "stdout",
     "output_type": "stream",
     "text": [
      "inf\n",
      "(1, 1, 2)\n",
      "(2, 1, 2)\n",
      "(7, 1, 2)\n",
      "Best ARIMA(7, 1, 2) MSE=0.519\n"
     ]
    }
   ],
   "source": [
    "# Tune using train error, A MORE EXHAUSTIVE GRID SEARCH WAS INITIALLY CONDUCTED. TO ENSURE THAT REPEATED RUNNING \n",
    "# OF CODE WOULDN'T TAKE TOO LONG, THAT GRID SEARCH ISN'T SHOWN HERE. MORE DETAILS IN REPORT.\n",
    "p_values = [1,2,7]\n",
    "d_values = [1]\n",
    "q_values = [2]\n",
    "\n",
    "\n",
    "warnings.filterwarnings(\"ignore\")\n",
    "evaluate_models(Brazil_train_train_target, Brazil_train_test_target, p_values, d_values, q_values)\n",
    "# Best was 7,1,2"
   ]
  },
  {
   "cell_type": "code",
   "execution_count": 109,
   "id": "659ed1ed",
   "metadata": {},
   "outputs": [
    {
     "name": "stdout",
     "output_type": "stream",
     "text": [
      "predicted=9.438141, expected=8.965335\n",
      "predicted=9.020021, expected=9.498897\n",
      "predicted=9.309970, expected=9.748236\n",
      "predicted=9.072494, expected=9.524129\n",
      "predicted=9.552061, expected=9.447860\n",
      "predicted=9.282688, expected=9.211540\n",
      "predicted=9.233915, expected=8.720950\n",
      "predicted=9.269169, expected=8.439448\n",
      "predicted=9.054573, expected=8.685754\n",
      "predicted=8.955887, expected=9.699534\n",
      "predicted=8.897815, expected=9.491526\n",
      "predicted=9.121523, expected=9.472551\n",
      "predicted=9.193889, expected=9.321255\n",
      "predicted=9.264954, expected=8.641356\n",
      "predicted=8.959060, expected=8.836519\n",
      "predicted=9.158332, expected=9.376702\n",
      "predicted=9.192141, expected=9.614471\n",
      "predicted=9.079556, expected=9.651044\n",
      "predicted=9.476530, expected=9.588708\n",
      "predicted=9.339025, expected=9.143987\n",
      "predicted=9.298602, expected=8.366835\n",
      "predicted=9.156985, expected=7.916807\n",
      "predicted=8.927244, expected=8.789965\n",
      "predicted=8.742385, expected=9.481283\n",
      "predicted=8.797979, expected=9.341544\n",
      "predicted=8.941895, expected=9.423272\n",
      "predicted=9.126785, expected=9.013717\n",
      "predicted=8.906511, expected=8.534640\n",
      "predicted=8.856450, expected=8.328693\n",
      "predicted=8.958355, expected=9.428672\n",
      "predicted=8.946162, expected=9.413608\n",
      "predicted=8.938910, expected=9.415971\n",
      "predicted=9.239350, expected=9.294590\n",
      "predicted=9.150120, expected=9.025095\n",
      "predicted=9.082223, expected=8.170751\n",
      "predicted=8.829256, expected=8.409385\n",
      "predicted=9.103231, expected=9.238442\n",
      "predicted=8.608691, expected=9.415890\n",
      "predicted=9.099498, expected=9.386895\n",
      "predicted=8.932185, expected=9.270683\n",
      "predicted=9.332637, expected=8.910181\n",
      "predicted=8.691245, expected=8.453827\n",
      "predicted=9.231098, expected=8.702344\n",
      "predicted=8.758089, expected=9.223849\n",
      "predicted=9.127881, expected=9.223454\n",
      "predicted=8.782361, expected=9.077152\n",
      "predicted=9.250836, expected=8.862908\n",
      "predicted=8.762624, expected=7.895063\n",
      "predicted=8.778548, expected=7.387090\n",
      "predicted=8.288570, expected=7.926603\n",
      "predicted=8.387120, expected=8.384576\n",
      "predicted=7.902290, expected=8.532673\n",
      "predicted=8.342838, expected=8.205492\n",
      "predicted=8.046341, expected=8.380915\n",
      "predicted=8.147921, expected=7.775276\n",
      "predicted=7.826135, expected=7.284821\n",
      "predicted=8.040111, expected=7.878155\n",
      "predicted=7.777542, expected=8.225235\n",
      "predicted=7.911318, expected=8.078998\n",
      "predicted=7.706482, expected=8.235891\n",
      "predicted=8.233277, expected=8.210668\n",
      "predicted=7.657364, expected=8.209036\n",
      "predicted=8.135516, expected=8.510974\n",
      "predicted=8.086333, expected=8.846785\n",
      "predicted=8.481543, expected=9.110741\n",
      "predicted=8.380794, expected=9.186150\n",
      "predicted=8.943496, expected=9.442880\n",
      "predicted=8.797169, expected=9.229162\n"
     ]
    },
    {
     "data": {
      "text/plain": [
       "3815.666987968374"
      ]
     },
     "execution_count": 109,
     "metadata": {},
     "output_type": "execute_result"
    }
   ],
   "source": [
    "# FIND RMSE on TRAINING DATASET\n",
    "history = [x for x in Brazil_train_train_target]\n",
    "Brazil_train_predictions = list()\n",
    "for t in range(len(Brazil_train_test_target)):\n",
    "    model = ARIMA(history, order=(7,1,2))\n",
    "    model_fit = model.fit()\n",
    "    output = model_fit.forecast()\n",
    "    yhat = output[0]\n",
    "    Brazil_train_predictions.append(yhat)\n",
    "    obs = Brazil_train_test_target[t]\n",
    "    history.append(obs)\n",
    "    print('predicted=%f, expected=%f' % (yhat, obs))\n",
    "    \n",
    "np.sqrt(mean_squared_error(np.exp(Brazil_train_predictions), np.exp(Brazil_train_test_target)))"
   ]
  },
  {
   "cell_type": "code",
   "execution_count": 110,
   "id": "b44ba083",
   "metadata": {},
   "outputs": [
    {
     "name": "stdout",
     "output_type": "stream",
     "text": [
      "predicted=9.223673, expected=8.238008\n",
      "predicted=8.839353, expected=7.498870\n",
      "predicted=8.854274, expected=9.363405\n",
      "predicted=8.664405, expected=9.861154\n",
      "predicted=8.937211, expected=10.036794\n",
      "predicted=9.306624, expected=10.486429\n",
      "predicted=9.835279, expected=11.055514\n",
      "predicted=9.724644, expected=10.805740\n",
      "predicted=10.250434, expected=10.297487\n",
      "predicted=10.841605, expected=10.431790\n",
      "predicted=10.545079, expected=11.201702\n",
      "predicted=10.948314, expected=11.383648\n",
      "predicted=10.936175, expected=11.492161\n",
      "predicted=11.557065, expected=11.618294\n",
      "predicted=11.287877, expected=10.790597\n",
      "predicted=11.412982, expected=10.412622\n",
      "predicted=11.138850, expected=11.216956\n",
      "predicted=11.505598, expected=11.851838\n",
      "predicted=11.185499, expected=12.183525\n",
      "predicted=11.919257, expected=12.042294\n",
      "predicted=11.805028, expected=12.051294\n",
      "predicted=11.996474, expected=12.014367\n",
      "predicted=11.910678, expected=11.718280\n",
      "predicted=12.298317, expected=11.380844\n",
      "predicted=11.976944, expected=12.207522\n",
      "predicted=12.329275, expected=12.291199\n",
      "predicted=11.964612, expected=12.344538\n",
      "predicted=12.504734, expected=12.471532\n",
      "predicted=12.311116, expected=12.233673\n",
      "predicted=12.488978, expected=11.556454\n",
      "predicted=12.080692, expected=11.541348\n",
      "predicted=12.518181, expected=12.050886\n",
      "predicted=11.867843, expected=12.133308\n",
      "predicted=12.392523, expected=12.567757\n",
      "predicted=12.147947, expected=12.294816\n",
      "predicted=12.537387, expected=11.970932\n",
      "predicted=11.970541, expected=11.032516\n",
      "predicted=12.278492, expected=11.150735\n",
      "predicted=11.678284, expected=12.086630\n",
      "predicted=12.035365, expected=12.097468\n",
      "predicted=11.787159, expected=11.999270\n",
      "predicted=12.147157, expected=12.006316\n",
      "predicted=11.933613, expected=11.812660\n",
      "predicted=11.802075, expected=10.978797\n",
      "predicted=11.757681, expected=10.991426\n",
      "predicted=11.785786, expected=11.737676\n",
      "predicted=11.504084, expected=11.867294\n",
      "predicted=11.659953, expected=11.696271\n",
      "predicted=11.684143, expected=11.791458\n",
      "predicted=11.811805, expected=11.562943\n",
      "predicted=11.404833, expected=10.616756\n",
      "predicted=11.544136, expected=10.603561\n",
      "predicted=11.291908, expected=11.547259\n",
      "predicted=11.316791, expected=11.785887\n",
      "predicted=11.201894, expected=11.471051\n",
      "predicted=11.587225, expected=11.412398\n",
      "predicted=11.365107, expected=11.154549\n",
      "predicted=11.191910, expected=10.212515\n",
      "predicted=10.997065, expected=9.892275\n",
      "predicted=10.992553, expected=10.011400\n",
      "predicted=10.452730, expected=10.227200\n",
      "predicted=10.345753, expected=11.005045\n",
      "predicted=10.461325, expected=11.175773\n",
      "predicted=10.569807, expected=11.046882\n"
     ]
    }
   ],
   "source": [
    "# Make Test Predictions\n",
    "history = [x for x in Brazil_train_log]\n",
    "Brazil_predictions = list()\n",
    "for t in range(len(Brazil_test_log)):\n",
    "    model = ARIMA(history, order=(7,1,2))\n",
    "    model_fit = model.fit()\n",
    "    output = model_fit.forecast()\n",
    "    yhat = output[0]\n",
    "    Brazil_predictions.append(yhat)\n",
    "    obs = Brazil_test_log[t]\n",
    "    history.append(obs)\n",
    "    print('predicted=%f, expected=%f' % (yhat, obs))"
   ]
  },
  {
   "cell_type": "code",
   "execution_count": 111,
   "id": "cbda9d3e",
   "metadata": {},
   "outputs": [
    {
     "data": {
      "text/plain": [
       "53829.17143219262"
      ]
     },
     "execution_count": 111,
     "metadata": {},
     "output_type": "execute_result"
    }
   ],
   "source": [
    "#TEST RMSE\n",
    "rmse = np.sqrt(mean_squared_error(Brazil_test_imputed['new_cases'], np.exp(Brazil_predictions)))\n",
    "rmse"
   ]
  },
  {
   "cell_type": "code",
   "execution_count": 112,
   "id": "7667a1f1",
   "metadata": {},
   "outputs": [
    {
     "data": {
      "text/plain": [
       "<AxesSubplot:xlabel='date'>"
      ]
     },
     "execution_count": 112,
     "metadata": {},
     "output_type": "execute_result"
    },
    {
     "data": {
      "image/png": "[encoded data removed]",
      "text/plain": [
       "<Figure size 432x288 with 1 Axes>"
      ]
     },
     "metadata": {
      "needs_background": "light"
     },
     "output_type": "display_data"
    }
   ],
   "source": [
    "Brazil_test_imputed['predictions'] = np.exp(Brazil_predictions)\n",
    "Brazil_test_imputed.plot(y=[\"new_cases\", \"predictions\"])"
   ]
  },
  {
   "cell_type": "markdown",
   "id": "4ffc96e4",
   "metadata": {},
   "source": [
    "### GERMANY"
   ]
  },
  {
   "cell_type": "code",
   "execution_count": 113,
   "id": "e6cf24f7",
   "metadata": {},
   "outputs": [
    {
     "name": "stdout",
     "output_type": "stream",
     "text": [
      "inf\n",
      "(1, 1, 1)\n",
      "(1, 1, 2)\n",
      "(2, 1, 1)\n",
      "(2, 1, 2)\n",
      "(7, 1, 1)\n",
      "(7, 1, 2)\n",
      "Best ARIMA(7, 1, 1) MSE=16708.419\n"
     ]
    }
   ],
   "source": [
    "# As Germany Data was stationary, no need for log transformation\n",
    "# A MORE EXHAUSTIVE GRID SEARCH WAS INITIALLY CONDUCTED. TO ENSURE THAT REPEATED RUNNING \n",
    "# OF CODE WOULDN'T TAKE TOO LONG, THAT GRID SEARCH ISN'T SHOWN HERE. MORE DETAILS IN REPORT.\n",
    "Germany_train_target = Germany_train_imputed['new_cases']\n",
    "Germany_test_target = Germany_test_imputed['new_cases']\n",
    "split_index = int(len(Germany_train_target) * 0.9)\n",
    "Germany_train_train_target = Germany_train_target[:split_index]\n",
    "Germany_train_test_target = Germany_train_target[split_index:]\n",
    "\n",
    "p_values = [1,2,7]\n",
    "d_values = [1]\n",
    "q_values = [1, 2]\n",
    "\n",
    "\n",
    "warnings.filterwarnings(\"ignore\")\n",
    "evaluate_models(Germany_train_train_target, Germany_train_test_target, p_values, d_values, q_values)\n",
    "# Best was 7,1,1, with a training RMSE (ignore MSE, typo in function) of 16,508.419"
   ]
  },
  {
   "cell_type": "code",
   "execution_count": 114,
   "id": "ba7d689e",
   "metadata": {},
   "outputs": [
    {
     "name": "stdout",
     "output_type": "stream",
     "text": [
      "predicted=14683.587747, expected=2968.000000\n",
      "predicted=5714.118673, expected=12636.000000\n",
      "predicted=16456.107237, expected=50013.000000\n",
      "predicted=45522.185846, expected=61905.000000\n",
      "predicted=63363.063682, expected=67337.000000\n",
      "predicted=42540.514569, expected=59110.000000\n",
      "predicted=25481.053610, expected=52621.000000\n",
      "predicted=21306.595163, expected=32128.000000\n",
      "predicted=34804.672969, expected=21839.000000\n",
      "predicted=49331.547117, expected=16618.000000\n",
      "predicted=50865.656072, expected=120271.000000\n",
      "predicted=73671.077537, expected=86232.000000\n",
      "predicted=80340.149227, expected=89920.000000\n",
      "predicted=58755.338411, expected=77175.000000\n",
      "predicted=42411.657911, expected=44251.000000\n",
      "predicted=33950.685252, expected=33129.000000\n",
      "predicted=55789.737385, expected=82818.000000\n",
      "predicted=106167.038795, expected=118105.000000\n",
      "predicted=108000.007201, expected=139000.000000\n",
      "predicted=115863.820923, expected=140870.000000\n",
      "predicted=99429.499886, expected=133329.000000\n",
      "predicted=82474.531296, expected=81343.000000\n",
      "predicted=82384.416474, expected=56226.000000\n",
      "predicted=99505.637260, expected=136473.000000\n",
      "predicted=144816.592295, expected=179169.000000\n",
      "predicted=186057.907889, expected=228608.000000\n",
      "predicted=203449.727662, expected=160323.000000\n",
      "predicted=155377.363458, expected=184054.000000\n",
      "predicted=114472.130908, expected=113190.000000\n",
      "predicted=127048.421682, expected=71185.000000\n",
      "predicted=158395.879445, expected=179431.000000\n",
      "predicted=216166.654133, expected=211277.000000\n",
      "predicted=247201.070587, expected=238252.000000\n",
      "predicted=217289.771592, expected=248652.000000\n",
      "predicted=206730.897582, expected=214386.000000\n",
      "predicted=144662.475000, expected=127116.000000\n",
      "predicted=135995.057837, expected=82363.000000\n",
      "predicted=181127.738503, expected=51377.000000\n",
      "predicted=158463.607240, expected=380632.000000\n",
      "predicted=278347.458651, expected=252813.000000\n",
      "predicted=316020.309844, expected=236080.000000\n",
      "predicted=221417.866892, expected=206242.000000\n",
      "predicted=124610.895346, expected=116810.000000\n",
      "predicted=82390.476777, expected=62841.000000\n",
      "predicted=152807.757692, expected=174539.000000\n",
      "predicted=340251.043475, expected=63210.000000\n",
      "predicted=201035.594847, expected=401828.000000\n",
      "predicted=221685.809018, expected=215159.000000\n",
      "predicted=242950.424351, expected=182762.000000\n",
      "predicted=125098.494100, expected=113643.000000\n",
      "predicted=82080.701284, expected=61908.000000\n",
      "predicted=101648.492989, expected=137844.000000\n",
      "predicted=211101.078731, expected=221478.000000\n",
      "predicted=294519.682054, expected=225525.000000\n",
      "predicted=226924.904285, expected=206627.000000\n",
      "predicted=145721.180016, expected=167488.000000\n",
      "predicted=111908.256405, expected=106407.000000\n",
      "predicted=94143.859872, expected=47103.000000\n",
      "predicted=150054.876856, expected=132801.000000\n",
      "predicted=180276.708005, expected=62096.000000\n",
      "predicted=191428.391727, expected=199654.000000\n",
      "predicted=206116.821565, expected=356864.000000\n",
      "predicted=177341.932568, expected=182713.000000\n",
      "predicted=134368.360899, expected=116159.000000\n"
     ]
    }
   ],
   "source": [
    "# Make testing predictions\n",
    "history = [x for x in Germany_train_target]\n",
    "Germany_predictions = list()\n",
    "for t in range(len(Germany_test_target)):\n",
    "    model = ARIMA(history, order=(7,1,1))\n",
    "    model_fit = model.fit()\n",
    "    output = model_fit.forecast()\n",
    "    yhat = output[0]\n",
    "    Germany_predictions.append(yhat)\n",
    "    obs = Germany_test_target[t]\n",
    "    history.append(obs)\n",
    "    print('predicted=%f, expected=%f' % (yhat, obs))"
   ]
  },
  {
   "cell_type": "code",
   "execution_count": 115,
   "id": "741a7c86",
   "metadata": {},
   "outputs": [
    {
     "data": {
      "text/plain": [
       "65069.642440343065"
      ]
     },
     "execution_count": 115,
     "metadata": {},
     "output_type": "execute_result"
    }
   ],
   "source": [
    "# TEST RMSE\n",
    "rmse = np.sqrt(mean_squared_error(Germany_test_target, Germany_predictions))\n",
    "rmse"
   ]
  },
  {
   "cell_type": "code",
   "execution_count": 116,
   "id": "229e7536",
   "metadata": {},
   "outputs": [
    {
     "data": {
      "text/plain": [
       "<AxesSubplot:xlabel='date'>"
      ]
     },
     "execution_count": 116,
     "metadata": {},
     "output_type": "execute_result"
    },
    {
     "data": {
      "image/png": "[encoded data removed]",
      "text/plain": [
       "<Figure size 432x288 with 1 Axes>"
      ]
     },
     "metadata": {
      "needs_background": "light"
     },
     "output_type": "display_data"
    }
   ],
   "source": [
    "Germany_test_imputed['predictions'] = Germany_predictions\n",
    "Germany_test_imputed.plot(y=[\"new_cases\", \"predictions\"])"
   ]
  },
  {
   "cell_type": "markdown",
   "id": "b4b7bb2b",
   "metadata": {},
   "source": [
    "### NIGERIA"
   ]
  },
  {
   "cell_type": "code",
   "execution_count": 118,
   "id": "4bfe4dfc",
   "metadata": {},
   "outputs": [
    {
     "name": "stdout",
     "output_type": "stream",
     "text": [
      "inf\n",
      "(1, 1, 1)\n",
      "(1, 1, 2)\n",
      "(2, 1, 1)\n",
      "(2, 1, 2)\n",
      "(7, 1, 1)\n",
      "(7, 1, 2)\n",
      "Best ARIMA(1, 1, 1) MSE=792.630\n"
     ]
    }
   ],
   "source": [
    "# As Nigeria Data was stationary, no need for log transformation\n",
    "# A MORE EXHAUSTIVE GRID SEARCH WAS INITIALLY CONDUCTED. TO ENSURE THAT REPEATED RUNNING \n",
    "# OF CODE WOULDN'T TAKE TOO LONG, THAT GRID SEARCH ISN'T SHOWN HERE. MORE DETAILS IN REPORT.\n",
    "\n",
    "Nigeria_train_target = Nigeria_train_imputed['new_cases']\n",
    "Nigeria_test_target = Nigeria_test_imputed['new_cases']\n",
    "split_index = int(len(Nigeria_train_target) * 0.9)\n",
    "Nigeria_train_train_target = Nigeria_train_target[:split_index]\n",
    "Nigeria_train_test_target = Nigeria_train_target[split_index:]\n",
    "\n",
    "p_values = [1,2,7]\n",
    "d_values = [1]\n",
    "q_values = [1, 2]\n",
    "\n",
    "\n",
    "warnings.filterwarnings(\"ignore\")\n",
    "evaluate_models(Nigeria_train_train_target, Nigeria_train_test_target, p_values, d_values, q_values)\n",
    "# Best was 1,1,1 with an RMSE of 792.63 (again ignore fact it displays MSE, it really is RMSE)"
   ]
  },
  {
   "cell_type": "code",
   "execution_count": 119,
   "id": "b9a7439c",
   "metadata": {},
   "outputs": [
    {
     "name": "stdout",
     "output_type": "stream",
     "text": [
      "predicted=1073.895710, expected=1364.000000\n",
      "predicted=983.323350, expected=0.000000\n",
      "predicted=897.146021, expected=1243.000000\n",
      "predicted=809.836131, expected=428.000000\n",
      "predicted=827.266482, expected=856.000000\n",
      "predicted=767.645311, expected=791.000000\n",
      "predicted=784.420901, expected=814.000000\n",
      "predicted=788.942600, expected=766.000000\n",
      "predicted=790.218661, expected=537.000000\n",
      "predicted=756.925209, expected=420.000000\n",
      "predicted=682.349589, expected=422.000000\n",
      "predicted=609.586141, expected=432.000000\n",
      "predicted=558.312336, expected=423.000000\n",
      "predicted=521.755141, expected=0.000000\n",
      "predicted=441.523562, expected=619.000000\n",
      "predicted=392.929463, expected=301.000000\n",
      "predicted=417.941985, expected=249.000000\n",
      "predicted=378.635008, expected=163.000000\n",
      "predicted=331.434353, expected=230.000000\n",
      "predicted=291.777507, expected=0.000000\n",
      "predicted=245.887345, expected=359.000000\n",
      "predicted=219.792064, expected=29.000000\n",
      "predicted=219.255354, expected=228.000000\n",
      "predicted=189.113054, expected=241.000000\n",
      "predicted=201.775271, expected=250.000000\n",
      "predicted=214.016730, expected=75.000000\n",
      "predicted=203.178758, expected=0.000000\n",
      "predicted=157.620167, expected=159.000000\n",
      "predicted=132.007002, expected=89.000000\n",
      "predicted=131.208665, expected=22.000000\n",
      "predicted=111.068815, expected=158.000000\n",
      "predicted=102.165781, expected=159.000000\n",
      "predicted=118.187235, expected=65.000000\n",
      "predicted=118.440110, expected=0.000000\n",
      "predicted=95.370594, expected=135.000000\n",
      "predicted=84.558036, expected=145.000000\n",
      "predicted=100.123437, expected=42.000000\n",
      "predicted=100.439911, expected=53.000000\n",
      "predicted=85.145210, expected=58.000000\n",
      "predicted=76.605120, expected=37.000000\n",
      "predicted=68.771708, expected=0.000000\n",
      "predicted=55.252917, expected=48.000000\n",
      "predicted=45.337165, expected=55.000000\n",
      "predicted=46.942493, expected=38.000000\n",
      "predicted=47.178471, expected=0.000000\n",
      "predicted=39.969257, expected=108.000000\n",
      "predicted=41.658669, expected=13.000000\n",
      "predicted=49.048771, expected=0.000000\n",
      "predicted=37.219386, expected=84.000000\n",
      "predicted=36.784751, expected=22.000000\n",
      "predicted=42.724123, expected=0.000000\n",
      "predicted=34.168472, expected=50.000000\n",
      "predicted=30.490800, expected=59.000000\n",
      "predicted=37.129351, expected=0.000000\n",
      "predicted=36.220815, expected=76.000000\n",
      "predicted=35.099709, expected=0.000000\n",
      "predicted=37.554179, expected=73.000000\n",
      "predicted=35.687137, expected=24.000000\n",
      "predicted=40.385122, expected=35.000000\n",
      "predicted=37.051857, expected=10.000000\n",
      "predicted=33.448957, expected=28.000000\n",
      "predicted=28.951423, expected=8.000000\n",
      "predicted=26.265326, expected=31.000000\n",
      "predicted=23.846366, expected=0.000000\n"
     ]
    }
   ],
   "source": [
    "# Make testing predictions\n",
    "history = [x for x in Nigeria_train_target]\n",
    "Nigeria_predictions = list()\n",
    "for t in range(len(Nigeria_test_target)):\n",
    "    model = ARIMA(history, order=(1,1,1))\n",
    "    model_fit = model.fit()\n",
    "    output = model_fit.forecast()\n",
    "    yhat = output[0]\n",
    "    Nigeria_predictions.append(yhat)\n",
    "    obs = Nigeria_test_target[t]\n",
    "    history.append(obs)\n",
    "    print('predicted=%f, expected=%f' % (yhat, obs))"
   ]
  },
  {
   "cell_type": "code",
   "execution_count": 120,
   "id": "7eca8720",
   "metadata": {},
   "outputs": [
    {
     "data": {
      "text/plain": [
       "189.119685781681"
      ]
     },
     "execution_count": 120,
     "metadata": {},
     "output_type": "execute_result"
    }
   ],
   "source": [
    "rmse = np.sqrt(mean_squared_error(Nigeria_test_target, Nigeria_predictions))\n",
    "rmse"
   ]
  },
  {
   "cell_type": "code",
   "execution_count": 121,
   "id": "11076195",
   "metadata": {},
   "outputs": [
    {
     "data": {
      "text/plain": [
       "<AxesSubplot:xlabel='date'>"
      ]
     },
     "execution_count": 121,
     "metadata": {},
     "output_type": "execute_result"
    },
    {
     "data": {
      "image/png": "[encoded data removed]",
      "text/plain": [
       "<Figure size 432x288 with 1 Axes>"
      ]
     },
     "metadata": {
      "needs_background": "light"
     },
     "output_type": "display_data"
    }
   ],
   "source": [
    "Nigeria_test_imputed['predictions'] = Nigeria_predictions\n",
    "Nigeria_test_imputed.plot(y=[\"new_cases\", \"predictions\"])"
   ]
  },
  {
   "cell_type": "markdown",
   "id": "68230a51",
   "metadata": {},
   "source": [
    "### CHINA"
   ]
  },
  {
   "cell_type": "code",
   "execution_count": 122,
   "id": "f24e5dc7",
   "metadata": {},
   "outputs": [
    {
     "name": "stdout",
     "output_type": "stream",
     "text": [
      "inf\n",
      "(1, 1, 1)\n",
      "(1, 1, 2)\n",
      "(2, 1, 1)\n",
      "(2, 1, 2)\n",
      "(7, 1, 1)\n",
      "(7, 1, 2)\n",
      "Best ARIMA(7, 1, 2) MSE=37.726\n"
     ]
    }
   ],
   "source": [
    "# As China Data was stationary, no need for log transformation\n",
    "# A MORE EXHAUSTIVE GRID SEARCH WAS INITIALLY CONDUCTED. TO ENSURE THAT REPEATED RUNNING \n",
    "# OF CODE WOULDN'T TAKE TOO LONG, THAT GRID SEARCH ISN'T SHOWN HERE. MORE DETAILS IN REPORT.\n",
    "China_train_target = China_train_imputed['new_cases']\n",
    "China_test_target = China_test_imputed['new_cases']\n",
    "split_index = int(len(China_train_target) * 0.9)\n",
    "China_train_train_target = China_train_target[:split_index]\n",
    "China_train_test_target = China_train_target[split_index:]\n",
    "\n",
    "p_values = [1,2,7]\n",
    "d_values = [1]\n",
    "q_values = [1, 2]\n",
    "\n",
    "\n",
    "warnings.filterwarnings(\"ignore\")\n",
    "evaluate_models(China_train_train_target, China_train_test_target, p_values, d_values, q_values)\n",
    "# Best was 7,1,2, with RMSE of 37.726"
   ]
  },
  {
   "cell_type": "code",
   "execution_count": 123,
   "id": "41bd18cd",
   "metadata": {},
   "outputs": [
    {
     "name": "stdout",
     "output_type": "stream",
     "text": [
      "predicted=212.819673, expected=191.000000\n",
      "predicted=193.150068, expected=161.000000\n",
      "predicted=195.800004, expected=175.000000\n",
      "predicted=-30052714.093010, expected=91.000000\n",
      "predicted=173.360737, expected=189.000000\n",
      "predicted=200.704150, expected=174.000000\n",
      "predicted=186.410228, expected=159.000000\n",
      "predicted=183.533898, expected=165.000000\n",
      "predicted=179.206836, expected=157.000000\n",
      "predicted=172.400734, expected=192.000000\n",
      "predicted=171.372199, expected=221.000000\n",
      "predicted=173.305729, expected=190.000000\n",
      "predicted=162.831449, expected=201.000000\n",
      "predicted=168.960223, expected=165.000000\n",
      "predicted=157.862839, expected=119.000000\n",
      "predicted=143.092675, expected=223.000000\n",
      "predicted=175.595816, expected=171.000000\n",
      "predicted=161.050374, expected=87.000000\n",
      "predicted=145.404328, expected=66.000000\n",
      "predicted=141.012979, expected=73.000000\n",
      "predicted=137.326394, expected=63.000000\n",
      "predicted=118.386105, expected=58.000000\n",
      "predicted=107.539548, expected=55.000000\n",
      "predicted=99.114135, expected=45.000000\n",
      "predicted=84.591962, expected=44.000000\n",
      "predicted=69.239997, expected=62.000000\n",
      "predicted=59.524881, expected=64.000000\n",
      "predicted=46.373499, expected=59.000000\n",
      "predicted=35.189571, expected=81.000000\n",
      "predicted=36.594889, expected=58.000000\n",
      "predicted=26.342289, expected=66.000000\n",
      "predicted=30.865349, expected=63.000000\n",
      "predicted=33.117024, expected=39.000000\n",
      "predicted=33.078674, expected=29.000000\n",
      "predicted=36.874107, expected=27.000000\n",
      "predicted=43.531709, expected=43.000000\n",
      "predicted=54.687540, expected=79.000000\n",
      "predicted=72.880040, expected=105.000000\n",
      "predicted=90.574111, expected=111.000000\n",
      "predicted=102.774546, expected=28.000000\n",
      "predicted=81.631457, expected=101.000000\n",
      "predicted=104.870450, expected=99.000000\n",
      "predicted=92.045327, expected=67.000000\n",
      "predicted=77.589593, expected=84.000000\n",
      "predicted=77.685320, expected=80.000000\n",
      "predicted=74.323286, expected=102.000000\n",
      "predicted=76.567180, expected=92.000000\n",
      "predicted=71.644453, expected=87.000000\n",
      "predicted=74.465173, expected=137.000000\n",
      "predicted=93.977252, expected=195.000000\n",
      "predicted=120.344372, expected=144.000000\n",
      "predicted=116.769338, expected=138.000000\n",
      "predicted=132.118567, expected=205.000000\n",
      "predicted=164.138039, expected=186.000000\n",
      "predicted=165.529344, expected=224.000000\n",
      "predicted=190.050097, expected=249.000000\n",
      "predicted=212.159500, expected=239.000000\n",
      "predicted=224.887865, expected=234.000000\n",
      "predicted=232.970699, expected=200.000000\n",
      "predicted=228.973935, expected=224.000000\n",
      "predicted=237.737326, expected=214.000000\n",
      "predicted=230.150511, expected=294.000000\n",
      "predicted=257.570538, expected=281.000000\n",
      "predicted=254.829380, expected=329.000000\n"
     ]
    }
   ],
   "source": [
    "# MAKE TEST PREDICTIONS\n",
    "history = [x for x in China_train_target]\n",
    "China_predictions = list()\n",
    "for t in range(len(China_test_target)):\n",
    "    model = ARIMA(history, order=(7,1,2))\n",
    "    model_fit = model.fit()\n",
    "    output = model_fit.forecast()\n",
    "    yhat = output[0]\n",
    "    China_predictions.append(yhat)\n",
    "    obs = China_test_target[t]\n",
    "    history.append(obs)\n",
    "    print('predicted=%f, expected=%f' % (yhat, obs))"
   ]
  },
  {
   "cell_type": "code",
   "execution_count": 124,
   "id": "2d923b39",
   "metadata": {},
   "outputs": [
    {
     "data": {
      "text/plain": [
       "42.22685845354431"
      ]
     },
     "execution_count": 124,
     "metadata": {},
     "output_type": "execute_result"
    }
   ],
   "source": [
    "# TEST RMSE\n",
    "China_predictions = [max(0, x) for x in China_predictions]\n",
    "rmse = np.sqrt(mean_squared_error(China_test_target, China_predictions))\n",
    "rmse"
   ]
  },
  {
   "cell_type": "code",
   "execution_count": 125,
   "id": "99e495e8",
   "metadata": {},
   "outputs": [
    {
     "data": {
      "text/plain": [
       "<AxesSubplot:xlabel='date'>"
      ]
     },
     "execution_count": 125,
     "metadata": {},
     "output_type": "execute_result"
    },
    {
     "data": {
      "image/png": "[encoded data removed]",
      "text/plain": [
       "<Figure size 432x288 with 1 Axes>"
      ]
     },
     "metadata": {
      "needs_background": "light"
     },
     "output_type": "display_data"
    }
   ],
   "source": [
    "China_test_imputed['predictions'] = China_predictions\n",
    "China_test_imputed.plot(y=[\"new_cases\", \"predictions\"])"
   ]
  },
  {
   "cell_type": "markdown",
   "id": "54af4b3c",
   "metadata": {},
   "source": [
    "### AUSTRALIA"
   ]
  },
  {
   "cell_type": "code",
   "execution_count": 126,
   "id": "dfcca28e",
   "metadata": {},
   "outputs": [
    {
     "data": {
      "text/plain": [
       "<AxesSubplot:xlabel='date'>"
      ]
     },
     "execution_count": 126,
     "metadata": {},
     "output_type": "execute_result"
    },
    {
     "data": {
      "image/png": "[encoded data removed]",
      "text/plain": [
       "<Figure size 432x288 with 1 Axes>"
      ]
     },
     "metadata": {
      "needs_background": "light"
     },
     "output_type": "display_data"
    }
   ],
   "source": [
    "Australia_train_imputed['new_cases'].plot()"
   ]
  },
  {
   "cell_type": "code",
   "execution_count": 128,
   "id": "22c53a65",
   "metadata": {},
   "outputs": [],
   "source": [
    "# As log is needed for stationarity, we will take log\n",
    "Australia_train_target = Australia_train_imputed['new_cases']\n",
    "Australia_test_target = Australia_test_imputed['new_cases']\n",
    "Australia_train_log = np.log(Australia_train_target)\n",
    "Australia_test_log = np.log(Australia_test_target)\n",
    "#Australia_train_log.plot()"
   ]
  },
  {
   "cell_type": "code",
   "execution_count": 129,
   "id": "743a7fd5",
   "metadata": {},
   "outputs": [],
   "source": [
    "split_index = int(len(Australia_train_target) * 0.9)\n",
    "Australia_train_train_target = Australia_train_log[:split_index]\n",
    "Australia_train_test_target = Australia_train_log[split_index:]"
   ]
  },
  {
   "cell_type": "code",
   "execution_count": 130,
   "id": "ca429b63",
   "metadata": {},
   "outputs": [
    {
     "name": "stdout",
     "output_type": "stream",
     "text": [
      "inf\n",
      "(1, 1, 1)\n",
      "(1, 1, 2)\n",
      "(2, 1, 1)\n",
      "(2, 1, 2)\n",
      "(7, 1, 1)\n",
      "(7, 1, 2)\n",
      "Best ARIMA(2, 1, 1) MSE=0.240\n"
     ]
    }
   ],
   "source": [
    "# Tune using train error, A MORE EXHAUSTIVE GRID SEARCH WAS INITIALLY CONDUCTED. TO ENSURE THAT REPEATED RUNNING \n",
    "# OF CODE WOULDN'T TAKE TOO LONG, THAT GRID SEARCH ISN'T SHOWN HERE. MORE DETAILS IN REPORT.\n",
    "p_values = [1,2,7]\n",
    "d_values = [1]\n",
    "q_values = [1,2]\n",
    "\n",
    "\n",
    "warnings.filterwarnings(\"ignore\")\n",
    "evaluate_models(Australia_train_train_target, Australia_train_test_target, p_values, d_values, q_values)\n",
    "# Best was 2,1,1"
   ]
  },
  {
   "cell_type": "code",
   "execution_count": 131,
   "id": "a3d3cf48",
   "metadata": {},
   "outputs": [
    {
     "name": "stdout",
     "output_type": "stream",
     "text": [
      "predicted=7.779539, expected=7.540622\n",
      "predicted=7.760051, expected=7.684324\n",
      "predicted=7.685176, expected=7.428927\n",
      "predicted=7.507244, expected=7.487734\n",
      "predicted=7.571698, expected=7.522941\n",
      "predicted=7.431449, expected=7.619724\n",
      "predicted=7.572647, expected=7.542213\n",
      "predicted=7.552981, expected=7.370860\n",
      "predicted=7.523643, expected=7.077498\n",
      "predicted=7.308634, expected=7.290293\n",
      "predicted=7.236665, expected=7.034388\n",
      "predicted=7.093333, expected=7.013016\n",
      "predicted=7.156759, expected=7.337588\n",
      "predicted=7.083568, expected=7.365180\n",
      "predicted=7.254075, expected=7.335634\n",
      "predicted=7.382486, expected=7.234898\n",
      "predicted=7.298935, expected=7.142037\n",
      "predicted=7.236827, expected=7.163947\n",
      "predicted=7.167672, expected=7.090910\n",
      "predicted=7.123419, expected=7.349874\n",
      "predicted=7.213575, expected=7.254178\n",
      "predicted=7.215020, expected=7.280697\n",
      "predicted=7.336599, expected=7.016610\n",
      "predicted=7.148836, expected=6.902743\n",
      "predicted=7.081840, expected=6.921658\n",
      "predicted=6.906264, expected=7.113142\n",
      "predicted=6.984365, expected=7.144407\n",
      "predicted=7.060787, expected=7.316548\n",
      "predicted=7.220082, expected=7.215240\n",
      "predicted=7.215883, expected=7.289611\n",
      "predicted=7.302115, expected=7.095893\n",
      "predicted=7.171318, expected=6.909753\n",
      "predicted=7.115948, expected=7.288928\n",
      "predicted=7.073568, expected=7.331060\n",
      "predicted=7.162422, expected=7.394493\n",
      "predicted=7.395598, expected=7.299797\n",
      "predicted=7.322424, expected=7.118826\n",
      "predicted=7.283367, expected=7.051856\n",
      "predicted=7.137923, expected=7.002156\n",
      "predicted=7.040033, expected=7.256297\n",
      "predicted=7.106989, expected=7.439559\n",
      "predicted=7.228499, expected=7.327781\n",
      "predicted=7.374260, expected=7.443078\n",
      "predicted=7.417161, expected=7.130099\n",
      "predicted=7.273252, expected=7.158514\n",
      "predicted=7.270725, expected=7.268223\n",
      "predicted=7.135592, expected=7.441320\n",
      "predicted=7.316785, expected=7.410952\n",
      "predicted=7.376458, expected=7.444833\n",
      "predicted=7.454955, expected=7.471363\n",
      "predicted=7.429885, expected=7.341484\n",
      "predicted=7.425937, expected=7.519150\n",
      "predicted=7.448685, expected=7.585789\n",
      "predicted=7.464374, expected=7.940584\n",
      "predicted=7.720176, expected=8.138273\n",
      "predicted=7.885976, expected=8.243283\n",
      "predicted=8.157756, expected=8.298291\n",
      "predicted=8.233994, expected=8.258940\n",
      "predicted=8.277022, expected=8.301770\n",
      "predicted=8.290515, expected=8.410053\n",
      "predicted=8.319010, expected=8.618124\n",
      "predicted=8.455332, expected=9.030855\n",
      "predicted=8.704890, expected=9.014082\n",
      "predicted=8.907653, expected=9.195734\n",
      "predicted=9.131165, expected=9.154722\n",
      "predicted=9.098051, expected=9.198673\n",
      "predicted=9.217569, expected=9.375601\n",
      "predicted=9.227579, expected=9.780076\n",
      "predicted=9.472281, expected=9.969697\n",
      "predicted=9.727929, expected=10.428541\n",
      "predicted=10.115687, expected=10.320980\n"
     ]
    },
    {
     "data": {
      "text/plain": [
       "2617.94830640694"
      ]
     },
     "execution_count": 131,
     "metadata": {},
     "output_type": "execute_result"
    }
   ],
   "source": [
    "# FIND RMSE on TRAINING DATASET\n",
    "history = [x for x in Australia_train_train_target]\n",
    "Australia_train_predictions = list()\n",
    "for t in range(len(Australia_train_test_target)):\n",
    "    model = ARIMA(history, order=(2,1,1))\n",
    "    model_fit = model.fit()\n",
    "    output = model_fit.forecast()\n",
    "    yhat = output[0]\n",
    "    Australia_train_predictions.append(yhat)\n",
    "    obs = Australia_train_test_target[t]\n",
    "    history.append(obs)\n",
    "    print('predicted=%f, expected=%f' % (yhat, obs))\n",
    "    \n",
    "np.sqrt(mean_squared_error(np.exp(Australia_train_predictions), np.exp(Australia_train_test_target)))"
   ]
  },
  {
   "cell_type": "code",
   "execution_count": 132,
   "id": "c47d26a6",
   "metadata": {},
   "outputs": [
    {
     "name": "stdout",
     "output_type": "stream",
     "text": [
      "predicted=10.240351, expected=10.531002\n",
      "predicted=10.492346, expected=10.295800\n",
      "predicted=10.336983, expected=10.708735\n",
      "predicted=10.567036, expected=11.177383\n",
      "predicted=10.684372, expected=11.230907\n",
      "predicted=11.112736, expected=11.267396\n",
      "predicted=11.259081, expected=11.493661\n",
      "predicted=11.329281, expected=11.625423\n",
      "predicted=11.470656, expected=11.195938\n",
      "predicted=11.455711, expected=11.448984\n",
      "predicted=11.439395, expected=11.343417\n",
      "predicted=11.263595, expected=12.074089\n",
      "predicted=11.698350, expected=11.761230\n",
      "predicted=11.675250, expected=11.365446\n",
      "predicted=11.842524, expected=11.633965\n",
      "predicted=11.507236, expected=11.000282\n",
      "predicted=11.298473, expected=11.342789\n",
      "predicted=11.382551, expected=11.345867\n",
      "predicted=11.122624, expected=11.121422\n",
      "predicted=11.353620, expected=11.065716\n",
      "predicted=11.143222, expected=10.672808\n",
      "predicted=10.928392, expected=11.115161\n",
      "predicted=10.963274, expected=10.380777\n",
      "predicted=10.649745, expected=10.968578\n",
      "predicted=10.922242, expected=10.876537\n",
      "predicted=10.602041, expected=10.839895\n",
      "predicted=11.028573, expected=11.100783\n",
      "predicted=10.879031, expected=11.097107\n",
      "predicted=11.031861, expected=10.763377\n",
      "predicted=11.006832, expected=10.511050\n",
      "predicted=10.776272, expected=10.511050\n",
      "predicted=10.556107, expected=10.600278\n",
      "predicted=10.524728, expected=10.095264\n",
      "predicted=10.397525, expected=10.379069\n",
      "predicted=10.377840, expected=10.215960\n",
      "predicted=10.151469, expected=10.042597\n",
      "predicted=10.277930, expected=10.136463\n",
      "predicted=10.085654, expected=10.217312\n",
      "predicted=10.129279, expected=10.358060\n",
      "predicted=10.254131, expected=9.348623\n",
      "predicted=9.956518, expected=10.349775\n",
      "predicted=10.066097, expected=10.024111\n",
      "predicted=9.747465, expected=10.150621\n",
      "predicted=10.374915, expected=9.416460\n",
      "predicted=9.724522, expected=10.338932\n",
      "predicted=10.060527, expected=10.102092\n",
      "predicted=9.813431, expected=10.102092\n",
      "predicted=10.359172, expected=10.031397\n",
      "predicted=9.974435, expected=10.052640\n",
      "predicted=10.103999, expected=9.762845\n",
      "predicted=9.916595, expected=9.810220\n",
      "predicted=9.891860, expected=10.133130\n",
      "predicted=9.863874, expected=10.135749\n",
      "predicted=10.048118, expected=10.120694\n",
      "predicted=10.163802, expected=10.191295\n",
      "predicted=10.137567, expected=9.893589\n",
      "predicted=10.064791, expected=9.772410\n",
      "predicted=9.960543, expected=9.974971\n",
      "predicted=9.841803, expected=10.143213\n",
      "predicted=9.966524, expected=9.987599\n",
      "predicted=10.057730, expected=10.596935\n",
      "predicted=10.269080, expected=10.132971\n",
      "predicted=10.198190, expected=10.030825\n",
      "predicted=10.348552, expected=9.762845\n"
     ]
    }
   ],
   "source": [
    "# Make Test Predictions\n",
    "history = [x for x in Australia_train_log]\n",
    "Australia_predictions = list()\n",
    "for t in range(len(Australia_test_log)):\n",
    "    model = ARIMA(history, order=(2,1,1))\n",
    "    model_fit = model.fit()\n",
    "    output = model_fit.forecast()\n",
    "    yhat = output[0]\n",
    "    Australia_predictions.append(yhat)\n",
    "    obs = Australia_test_log[t]\n",
    "    history.append(obs)\n",
    "    print('predicted=%f, expected=%f' % (yhat, obs))"
   ]
  },
  {
   "cell_type": "code",
   "execution_count": 133,
   "id": "558dd748",
   "metadata": {},
   "outputs": [
    {
     "data": {
      "text/plain": [
       "18832.254997360265"
      ]
     },
     "execution_count": 133,
     "metadata": {},
     "output_type": "execute_result"
    }
   ],
   "source": [
    "#TEST RMSE\n",
    "rmse = np.sqrt(mean_squared_error(Australia_test_imputed['new_cases'], np.exp(Australia_predictions)))\n",
    "rmse"
   ]
  },
  {
   "cell_type": "code",
   "execution_count": 134,
   "id": "328a4b87",
   "metadata": {},
   "outputs": [
    {
     "data": {
      "text/plain": [
       "<AxesSubplot:xlabel='date'>"
      ]
     },
     "execution_count": 134,
     "metadata": {},
     "output_type": "execute_result"
    },
    {
     "data": {
      "image/png": "[encoded data removed]",
      "text/plain": [
       "<Figure size 432x288 with 1 Axes>"
      ]
     },
     "metadata": {
      "needs_background": "light"
     },
     "output_type": "display_data"
    }
   ],
   "source": [
    "Australia_test_imputed['predictions'] = np.exp(Australia_predictions)\n",
    "Australia_test_imputed.plot(y=[\"new_cases\", \"predictions\"])"
   ]
  }
 ],
 "metadata": {
  "kernelspec": {
   "display_name": "Python 3 (ipykernel)",
   "language": "python",
   "name": "python3"
  },
  "language_info": {
   "codemirror_mode": {
    "name": "ipython",
    "version": 3
   },
   "file_extension": ".py",
   "mimetype": "text/x-python",
   "name": "python",
   "nbconvert_exporter": "python",
   "pygments_lexer": "ipython3",
   "version": "3.9.12"
  }
 },
 "nbformat": 4,
 "nbformat_minor": 5
}
