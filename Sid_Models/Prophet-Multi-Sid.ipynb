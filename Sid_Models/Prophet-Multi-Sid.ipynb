{
 "cells": [
  {
   "cell_type": "code",
   "execution_count": 1,
   "id": "ff6230b7",
   "metadata": {},
   "outputs": [],
   "source": [
    "import prophet\n",
    "# Read in datasets\n",
    "import pandas as pd\n",
    "import seaborn as sns\n",
    "import matplotlib.pyplot as plt\n",
    "import numpy as np\n",
    "\n",
    "USA_train_imputed = pd.read_csv(\"USA_train.csv\")\n",
    "USA_test_imputed = pd.read_csv(\"USA_test.csv\")\n",
    "USA_train_imputed.set_index('date', inplace=True)\n",
    "USA_test_imputed.set_index('date', inplace=True)\n",
    "\n",
    "Brazil_train_imputed = pd.read_csv(\"Brazil_train.csv\")\n",
    "Brazil_test_imputed = pd.read_csv(\"Brazil_test.csv\")\n",
    "Brazil_train_imputed.set_index('date', inplace=True)\n",
    "Brazil_test_imputed.set_index('date', inplace=True)\n",
    "\n",
    "Germany_train_imputed = pd.read_csv(\"Germany_train.csv\")\n",
    "Germany_test_imputed = pd.read_csv(\"Germany_test.csv\")\n",
    "Germany_train_imputed.set_index('date', inplace=True)\n",
    "Germany_test_imputed.set_index('date', inplace=True)\n",
    "\n",
    "Nigeria_train_imputed = pd.read_csv(\"Nigeria_train.csv\")\n",
    "Nigeria_test_imputed = pd.read_csv(\"Nigeria_test.csv\")\n",
    "Nigeria_train_imputed.set_index('date', inplace=True)\n",
    "Nigeria_test_imputed.set_index('date', inplace=True)\n",
    "\n",
    "China_train_imputed = pd.read_csv(\"China_train.csv\")\n",
    "China_test_imputed = pd.read_csv(\"China_test.csv\")\n",
    "China_train_imputed.set_index('date', inplace=True)\n",
    "China_test_imputed.set_index('date', inplace=True)\n",
    "\n",
    "Australia_train_imputed = pd.read_csv(\"Australia_train.csv\")\n",
    "Australia_test_imputed = pd.read_csv(\"Australia_test.csv\")\n",
    "Australia_train_imputed.set_index('date', inplace=True)\n",
    "Australia_test_imputed.set_index('date', inplace=True)"
   ]
  },
  {
   "cell_type": "markdown",
   "id": "1022ecfa",
   "metadata": {},
   "source": [
    "### USA"
   ]
  },
  {
   "cell_type": "code",
   "execution_count": null,
   "id": "e50a1ecc",
   "metadata": {},
   "outputs": [],
   "source": []
  }
 ],
 "metadata": {
  "kernelspec": {
   "display_name": "Python 3 (ipykernel)",
   "language": "python",
   "name": "python3"
  },
  "language_info": {
   "codemirror_mode": {
    "name": "ipython",
    "version": 3
   },
   "file_extension": ".py",
   "mimetype": "text/x-python",
   "name": "python",
   "nbconvert_exporter": "python",
   "pygments_lexer": "ipython3",
   "version": "3.9.12"
  }
 },
 "nbformat": 4,
 "nbformat_minor": 5
}
